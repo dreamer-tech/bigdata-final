{
 "cells": [
  {
   "cell_type": "code",
   "execution_count": 1,
   "metadata": {
    "collapsed": true
   },
   "outputs": [],
   "source": [
    "import pandas as pd"
   ]
  },
  {
   "cell_type": "code",
   "execution_count": 2,
   "outputs": [],
   "source": [
    "artists = pd.read_csv('../data/artists.csv')"
   ],
   "metadata": {
    "collapsed": false
   }
  },
  {
   "cell_type": "code",
   "execution_count": 20,
   "outputs": [
    {
     "data": {
      "text/plain": "                            id  followers         genres  name  popularity\n436667  3MLHJz04KmEVzCTPclzkEm        NaN  ['czech pop']  Niko          21",
      "text/html": "<div>\n<style scoped>\n    .dataframe tbody tr th:only-of-type {\n        vertical-align: middle;\n    }\n\n    .dataframe tbody tr th {\n        vertical-align: top;\n    }\n\n    .dataframe thead th {\n        text-align: right;\n    }\n</style>\n<table border=\"1\" class=\"dataframe\">\n  <thead>\n    <tr style=\"text-align: right;\">\n      <th></th>\n      <th>id</th>\n      <th>followers</th>\n      <th>genres</th>\n      <th>name</th>\n      <th>popularity</th>\n    </tr>\n  </thead>\n  <tbody>\n    <tr>\n      <th>436667</th>\n      <td>3MLHJz04KmEVzCTPclzkEm</td>\n      <td>NaN</td>\n      <td>['czech pop']</td>\n      <td>Niko</td>\n      <td>21</td>\n    </tr>\n  </tbody>\n</table>\n</div>"
     },
     "execution_count": 20,
     "metadata": {},
     "output_type": "execute_result"
    }
   ],
   "source": [
    "artists.head(436668).tail(1)"
   ],
   "metadata": {
    "collapsed": false
   }
  },
  {
   "cell_type": "code",
   "execution_count": 16,
   "outputs": [
    {
     "data": {
      "text/plain": "                             id  followers            genres  \\\n0        0DheY5irMjBUeLybbCUEZ2        0.0                []   \n1        0DlhY15l3wsrnlfGio2bjU        5.0                []   \n2        0DmRESX2JknGPQyO15yxg7        0.0                []   \n3        0DmhnbHjm1qw6NCYPeZNgJ        0.0                []   \n4        0Dn11fWM7vHQ3rinvWEl4E        2.0                []   \n...                         ...        ...               ...   \n1162090  3cOzi726Iav1toV2LRVEjp     4831.0  ['black comedy']   \n1162091  6LogY6VMM3jgAE6fPzXeMl       46.0                []   \n1162092  19boQkDEIay9GaVAWkUhTa      257.0                []   \n1162093  5nvjpU3Y7L6Hpe54QuvDjy     2357.0  ['black comedy']   \n1162094  2bP2cNhNBdKXHC6AnqgyVp       40.0    ['new comedy']   \n\n                                                   name  popularity  \n0        Armid & Amir Zare Pashai feat. Sara Rouzbehani           0  \n1                                           ปูนา ภาวิณี           0  \n2                                                 Sadaa           0  \n3                                             Tra'gruda           0  \n4                                Ioannis Panoutsopoulos           0  \n...                                                 ...         ...  \n1162090                                      Ali Siddiq          34  \n1162091                                    Rodney Laney           2  \n1162092                                    Blake Wexler          10  \n1162093                                Donnell Rawlings          15  \n1162094                                        Gabe Kea           8  \n\n[1162095 rows x 5 columns]",
      "text/html": "<div>\n<style scoped>\n    .dataframe tbody tr th:only-of-type {\n        vertical-align: middle;\n    }\n\n    .dataframe tbody tr th {\n        vertical-align: top;\n    }\n\n    .dataframe thead th {\n        text-align: right;\n    }\n</style>\n<table border=\"1\" class=\"dataframe\">\n  <thead>\n    <tr style=\"text-align: right;\">\n      <th></th>\n      <th>id</th>\n      <th>followers</th>\n      <th>genres</th>\n      <th>name</th>\n      <th>popularity</th>\n    </tr>\n  </thead>\n  <tbody>\n    <tr>\n      <th>0</th>\n      <td>0DheY5irMjBUeLybbCUEZ2</td>\n      <td>0.0</td>\n      <td>[]</td>\n      <td>Armid &amp; Amir Zare Pashai feat. Sara Rouzbehani</td>\n      <td>0</td>\n    </tr>\n    <tr>\n      <th>1</th>\n      <td>0DlhY15l3wsrnlfGio2bjU</td>\n      <td>5.0</td>\n      <td>[]</td>\n      <td>ปูนา ภาวิณี</td>\n      <td>0</td>\n    </tr>\n    <tr>\n      <th>2</th>\n      <td>0DmRESX2JknGPQyO15yxg7</td>\n      <td>0.0</td>\n      <td>[]</td>\n      <td>Sadaa</td>\n      <td>0</td>\n    </tr>\n    <tr>\n      <th>3</th>\n      <td>0DmhnbHjm1qw6NCYPeZNgJ</td>\n      <td>0.0</td>\n      <td>[]</td>\n      <td>Tra'gruda</td>\n      <td>0</td>\n    </tr>\n    <tr>\n      <th>4</th>\n      <td>0Dn11fWM7vHQ3rinvWEl4E</td>\n      <td>2.0</td>\n      <td>[]</td>\n      <td>Ioannis Panoutsopoulos</td>\n      <td>0</td>\n    </tr>\n    <tr>\n      <th>...</th>\n      <td>...</td>\n      <td>...</td>\n      <td>...</td>\n      <td>...</td>\n      <td>...</td>\n    </tr>\n    <tr>\n      <th>1162090</th>\n      <td>3cOzi726Iav1toV2LRVEjp</td>\n      <td>4831.0</td>\n      <td>['black comedy']</td>\n      <td>Ali Siddiq</td>\n      <td>34</td>\n    </tr>\n    <tr>\n      <th>1162091</th>\n      <td>6LogY6VMM3jgAE6fPzXeMl</td>\n      <td>46.0</td>\n      <td>[]</td>\n      <td>Rodney Laney</td>\n      <td>2</td>\n    </tr>\n    <tr>\n      <th>1162092</th>\n      <td>19boQkDEIay9GaVAWkUhTa</td>\n      <td>257.0</td>\n      <td>[]</td>\n      <td>Blake Wexler</td>\n      <td>10</td>\n    </tr>\n    <tr>\n      <th>1162093</th>\n      <td>5nvjpU3Y7L6Hpe54QuvDjy</td>\n      <td>2357.0</td>\n      <td>['black comedy']</td>\n      <td>Donnell Rawlings</td>\n      <td>15</td>\n    </tr>\n    <tr>\n      <th>1162094</th>\n      <td>2bP2cNhNBdKXHC6AnqgyVp</td>\n      <td>40.0</td>\n      <td>['new comedy']</td>\n      <td>Gabe Kea</td>\n      <td>8</td>\n    </tr>\n  </tbody>\n</table>\n<p>1162095 rows × 5 columns</p>\n</div>"
     },
     "execution_count": 16,
     "metadata": {},
     "output_type": "execute_result"
    }
   ],
   "source": [
    "artists"
   ],
   "metadata": {
    "collapsed": false
   }
  },
  {
   "cell_type": "code",
   "execution_count": 17,
   "outputs": [
    {
     "data": {
      "text/plain": "id             object\nfollowers     float64\ngenres         object\nname           object\npopularity      int64\ndtype: object"
     },
     "execution_count": 17,
     "metadata": {},
     "output_type": "execute_result"
    }
   ],
   "source": [
    "artists.dtypes"
   ],
   "metadata": {
    "collapsed": false
   }
  },
  {
   "cell_type": "code",
   "execution_count": 24,
   "outputs": [],
   "source": [
    "tracks = pd.read_csv('../data/tracks.csv')"
   ],
   "metadata": {
    "collapsed": false
   }
  },
  {
   "cell_type": "code",
   "execution_count": 23,
   "outputs": [
    {
     "data": {
      "text/plain": "478627    1900-01-01\n132355    1922-01-01\n101       1922-01-01\n102       1922-01-01\n132344    1922-01-01\n             ...    \n188856    2021-04-16\n188857    2021-04-16\n374824    2021-04-16\n188846    2021-04-16\n188962    2021-04-16\nName: release_date, Length: 586672, dtype: object"
     },
     "execution_count": 23,
     "metadata": {},
     "output_type": "execute_result"
    }
   ],
   "source": [
    "def convert_date(d: str):\n",
    "    if d.count('-') == 0:\n",
    "        return d + '-01-01'\n",
    "    return d\n",
    "\n",
    "tracks['release_date'] = tracks['release_date'].apply(convert_date)\n",
    "tracks['release_date'].sort_values()"
   ],
   "metadata": {
    "collapsed": false
   }
  },
  {
   "cell_type": "code",
   "execution_count": 34,
   "outputs": [
    {
     "data": {
      "text/plain": "                          id                    name  popularity  duration_ms  \\\n232   5rgmvqVTH38BKIhzEHanMq          Low Land Blues           5       172973   \n271   0YIo0uq3o867nFkE9I9hf2  Pleadin' for the Blues           4       178707   \n5129  3RmeELhWlwnRRVSyQ51nJV         Trouble in Mind           0       196417   \n\n      explicit                                       artists  \\\n232          0                     ['Bertha \"Chippie\" Hill']   \n271          0  ['Bertha \"Chippie\" Hill', 'Louis Armstrong']   \n5129         0  ['Bertha \"Chippie\" Hill', 'Richard M Jones']   \n\n                                             id_artists release_date  \\\n232                          ['1sPDyROEgOvKQlReOg874E']         1923   \n271   ['1sPDyROEgOvKQlReOg874E', '19eLuQmk9aCobbVDHc...         1923   \n5129  ['1sPDyROEgOvKQlReOg874E', '4gwFwktwSXrBZ3cE53...         1929   \n\n      danceability  energy  key  loudness  mode  speechiness  acousticness  \\\n232          0.492  0.1150    9   -15.788     1       0.0898         0.980   \n271          0.661  0.1340    2   -12.610     1       0.0763         0.996   \n5129         0.615  0.0562    5   -12.092     1       0.0514         0.996   \n\n      instrumentalness  liveness  valence    tempo  time_signature  \n232             0.0000     0.037    0.465  172.971               4  \n271             0.0011     0.119    0.575   71.497               4  \n5129            0.0870     0.100    0.469   83.195               4  ",
      "text/html": "<div>\n<style scoped>\n    .dataframe tbody tr th:only-of-type {\n        vertical-align: middle;\n    }\n\n    .dataframe tbody tr th {\n        vertical-align: top;\n    }\n\n    .dataframe thead th {\n        text-align: right;\n    }\n</style>\n<table border=\"1\" class=\"dataframe\">\n  <thead>\n    <tr style=\"text-align: right;\">\n      <th></th>\n      <th>id</th>\n      <th>name</th>\n      <th>popularity</th>\n      <th>duration_ms</th>\n      <th>explicit</th>\n      <th>artists</th>\n      <th>id_artists</th>\n      <th>release_date</th>\n      <th>danceability</th>\n      <th>energy</th>\n      <th>key</th>\n      <th>loudness</th>\n      <th>mode</th>\n      <th>speechiness</th>\n      <th>acousticness</th>\n      <th>instrumentalness</th>\n      <th>liveness</th>\n      <th>valence</th>\n      <th>tempo</th>\n      <th>time_signature</th>\n    </tr>\n  </thead>\n  <tbody>\n    <tr>\n      <th>232</th>\n      <td>5rgmvqVTH38BKIhzEHanMq</td>\n      <td>Low Land Blues</td>\n      <td>5</td>\n      <td>172973</td>\n      <td>0</td>\n      <td>['Bertha \"Chippie\" Hill']</td>\n      <td>['1sPDyROEgOvKQlReOg874E']</td>\n      <td>1923</td>\n      <td>0.492</td>\n      <td>0.1150</td>\n      <td>9</td>\n      <td>-15.788</td>\n      <td>1</td>\n      <td>0.0898</td>\n      <td>0.980</td>\n      <td>0.0000</td>\n      <td>0.037</td>\n      <td>0.465</td>\n      <td>172.971</td>\n      <td>4</td>\n    </tr>\n    <tr>\n      <th>271</th>\n      <td>0YIo0uq3o867nFkE9I9hf2</td>\n      <td>Pleadin' for the Blues</td>\n      <td>4</td>\n      <td>178707</td>\n      <td>0</td>\n      <td>['Bertha \"Chippie\" Hill', 'Louis Armstrong']</td>\n      <td>['1sPDyROEgOvKQlReOg874E', '19eLuQmk9aCobbVDHc...</td>\n      <td>1923</td>\n      <td>0.661</td>\n      <td>0.1340</td>\n      <td>2</td>\n      <td>-12.610</td>\n      <td>1</td>\n      <td>0.0763</td>\n      <td>0.996</td>\n      <td>0.0011</td>\n      <td>0.119</td>\n      <td>0.575</td>\n      <td>71.497</td>\n      <td>4</td>\n    </tr>\n    <tr>\n      <th>5129</th>\n      <td>3RmeELhWlwnRRVSyQ51nJV</td>\n      <td>Trouble in Mind</td>\n      <td>0</td>\n      <td>196417</td>\n      <td>0</td>\n      <td>['Bertha \"Chippie\" Hill', 'Richard M Jones']</td>\n      <td>['1sPDyROEgOvKQlReOg874E', '4gwFwktwSXrBZ3cE53...</td>\n      <td>1929</td>\n      <td>0.615</td>\n      <td>0.0562</td>\n      <td>5</td>\n      <td>-12.092</td>\n      <td>1</td>\n      <td>0.0514</td>\n      <td>0.996</td>\n      <td>0.0870</td>\n      <td>0.100</td>\n      <td>0.469</td>\n      <td>83.195</td>\n      <td>4</td>\n    </tr>\n  </tbody>\n</table>\n</div>"
     },
     "execution_count": 34,
     "metadata": {},
     "output_type": "execute_result"
    }
   ],
   "source": [
    "tracks[tracks['artists'].apply(lambda x: 'Bertha' in x)]\n",
    "# tracks[tracks['artists'].startswith('Bertha')]"
   ],
   "metadata": {
    "collapsed": false
   }
  },
  {
   "cell_type": "code",
   "execution_count": 37,
   "outputs": [],
   "source": [
    "tracks.to_csv(\"../data/tracks.csv\", index=False, escapechar='\\\\', doublequote=False)"
   ],
   "metadata": {
    "collapsed": false
   }
  },
  {
   "cell_type": "code",
   "execution_count": null,
   "outputs": [],
   "source": [],
   "metadata": {
    "collapsed": false
   }
  }
 ],
 "metadata": {
  "kernelspec": {
   "display_name": "Python 3",
   "language": "python",
   "name": "python3"
  },
  "language_info": {
   "codemirror_mode": {
    "name": "ipython",
    "version": 2
   },
   "file_extension": ".py",
   "mimetype": "text/x-python",
   "name": "python",
   "nbconvert_exporter": "python",
   "pygments_lexer": "ipython2",
   "version": "2.7.6"
  }
 },
 "nbformat": 4,
 "nbformat_minor": 0
}
