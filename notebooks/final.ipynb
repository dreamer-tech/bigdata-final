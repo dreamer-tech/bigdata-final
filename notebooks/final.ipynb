{
 "cells": [
  {
   "cell_type": "code",
   "execution_count": 1,
   "metadata": {
    "collapsed": true
   },
   "outputs": [],
   "source": [
    "import pandas as pd"
   ]
  },
  {
   "cell_type": "code",
   "execution_count": 2,
   "outputs": [],
   "source": [
    "artists = pd.read_csv('../data/artists.csv')"
   ],
   "metadata": {
    "collapsed": false
   }
  },
  {
   "cell_type": "code",
   "execution_count": 20,
   "outputs": [
    {
     "data": {
      "text/plain": "                            id  followers         genres  name  popularity\n436667  3MLHJz04KmEVzCTPclzkEm        NaN  ['czech pop']  Niko          21",
      "text/html": "<div>\n<style scoped>\n    .dataframe tbody tr th:only-of-type {\n        vertical-align: middle;\n    }\n\n    .dataframe tbody tr th {\n        vertical-align: top;\n    }\n\n    .dataframe thead th {\n        text-align: right;\n    }\n</style>\n<table border=\"1\" class=\"dataframe\">\n  <thead>\n    <tr style=\"text-align: right;\">\n      <th></th>\n      <th>id</th>\n      <th>followers</th>\n      <th>genres</th>\n      <th>name</th>\n      <th>popularity</th>\n    </tr>\n  </thead>\n  <tbody>\n    <tr>\n      <th>436667</th>\n      <td>3MLHJz04KmEVzCTPclzkEm</td>\n      <td>NaN</td>\n      <td>['czech pop']</td>\n      <td>Niko</td>\n      <td>21</td>\n    </tr>\n  </tbody>\n</table>\n</div>"
     },
     "execution_count": 20,
     "metadata": {},
     "output_type": "execute_result"
    }
   ],
   "source": [
    "artists.head(436668).tail(1)"
   ],
   "metadata": {
    "collapsed": false
   }
  },
  {
   "cell_type": "code",
   "execution_count": 16,
   "outputs": [
    {
     "data": {
      "text/plain": "                             id  followers            genres  \\\n0        0DheY5irMjBUeLybbCUEZ2        0.0                []   \n1        0DlhY15l3wsrnlfGio2bjU        5.0                []   \n2        0DmRESX2JknGPQyO15yxg7        0.0                []   \n3        0DmhnbHjm1qw6NCYPeZNgJ        0.0                []   \n4        0Dn11fWM7vHQ3rinvWEl4E        2.0                []   \n...                         ...        ...               ...   \n1162090  3cOzi726Iav1toV2LRVEjp     4831.0  ['black comedy']   \n1162091  6LogY6VMM3jgAE6fPzXeMl       46.0                []   \n1162092  19boQkDEIay9GaVAWkUhTa      257.0                []   \n1162093  5nvjpU3Y7L6Hpe54QuvDjy     2357.0  ['black comedy']   \n1162094  2bP2cNhNBdKXHC6AnqgyVp       40.0    ['new comedy']   \n\n                                                   name  popularity  \n0        Armid & Amir Zare Pashai feat. Sara Rouzbehani           0  \n1                                           ปูนา ภาวิณี           0  \n2                                                 Sadaa           0  \n3                                             Tra'gruda           0  \n4                                Ioannis Panoutsopoulos           0  \n...                                                 ...         ...  \n1162090                                      Ali Siddiq          34  \n1162091                                    Rodney Laney           2  \n1162092                                    Blake Wexler          10  \n1162093                                Donnell Rawlings          15  \n1162094                                        Gabe Kea           8  \n\n[1162095 rows x 5 columns]",
      "text/html": "<div>\n<style scoped>\n    .dataframe tbody tr th:only-of-type {\n        vertical-align: middle;\n    }\n\n    .dataframe tbody tr th {\n        vertical-align: top;\n    }\n\n    .dataframe thead th {\n        text-align: right;\n    }\n</style>\n<table border=\"1\" class=\"dataframe\">\n  <thead>\n    <tr style=\"text-align: right;\">\n      <th></th>\n      <th>id</th>\n      <th>followers</th>\n      <th>genres</th>\n      <th>name</th>\n      <th>popularity</th>\n    </tr>\n  </thead>\n  <tbody>\n    <tr>\n      <th>0</th>\n      <td>0DheY5irMjBUeLybbCUEZ2</td>\n      <td>0.0</td>\n      <td>[]</td>\n      <td>Armid &amp; Amir Zare Pashai feat. Sara Rouzbehani</td>\n      <td>0</td>\n    </tr>\n    <tr>\n      <th>1</th>\n      <td>0DlhY15l3wsrnlfGio2bjU</td>\n      <td>5.0</td>\n      <td>[]</td>\n      <td>ปูนา ภาวิณี</td>\n      <td>0</td>\n    </tr>\n    <tr>\n      <th>2</th>\n      <td>0DmRESX2JknGPQyO15yxg7</td>\n      <td>0.0</td>\n      <td>[]</td>\n      <td>Sadaa</td>\n      <td>0</td>\n    </tr>\n    <tr>\n      <th>3</th>\n      <td>0DmhnbHjm1qw6NCYPeZNgJ</td>\n      <td>0.0</td>\n      <td>[]</td>\n      <td>Tra'gruda</td>\n      <td>0</td>\n    </tr>\n    <tr>\n      <th>4</th>\n      <td>0Dn11fWM7vHQ3rinvWEl4E</td>\n      <td>2.0</td>\n      <td>[]</td>\n      <td>Ioannis Panoutsopoulos</td>\n      <td>0</td>\n    </tr>\n    <tr>\n      <th>...</th>\n      <td>...</td>\n      <td>...</td>\n      <td>...</td>\n      <td>...</td>\n      <td>...</td>\n    </tr>\n    <tr>\n      <th>1162090</th>\n      <td>3cOzi726Iav1toV2LRVEjp</td>\n      <td>4831.0</td>\n      <td>['black comedy']</td>\n      <td>Ali Siddiq</td>\n      <td>34</td>\n    </tr>\n    <tr>\n      <th>1162091</th>\n      <td>6LogY6VMM3jgAE6fPzXeMl</td>\n      <td>46.0</td>\n      <td>[]</td>\n      <td>Rodney Laney</td>\n      <td>2</td>\n    </tr>\n    <tr>\n      <th>1162092</th>\n      <td>19boQkDEIay9GaVAWkUhTa</td>\n      <td>257.0</td>\n      <td>[]</td>\n      <td>Blake Wexler</td>\n      <td>10</td>\n    </tr>\n    <tr>\n      <th>1162093</th>\n      <td>5nvjpU3Y7L6Hpe54QuvDjy</td>\n      <td>2357.0</td>\n      <td>['black comedy']</td>\n      <td>Donnell Rawlings</td>\n      <td>15</td>\n    </tr>\n    <tr>\n      <th>1162094</th>\n      <td>2bP2cNhNBdKXHC6AnqgyVp</td>\n      <td>40.0</td>\n      <td>['new comedy']</td>\n      <td>Gabe Kea</td>\n      <td>8</td>\n    </tr>\n  </tbody>\n</table>\n<p>1162095 rows × 5 columns</p>\n</div>"
     },
     "execution_count": 16,
     "metadata": {},
     "output_type": "execute_result"
    }
   ],
   "source": [
    "artists"
   ],
   "metadata": {
    "collapsed": false
   }
  },
  {
   "cell_type": "code",
   "execution_count": 17,
   "outputs": [
    {
     "data": {
      "text/plain": "id             object\nfollowers     float64\ngenres         object\nname           object\npopularity      int64\ndtype: object"
     },
     "execution_count": 17,
     "metadata": {},
     "output_type": "execute_result"
    }
   ],
   "source": [
    "artists.dtypes"
   ],
   "metadata": {
    "collapsed": false
   }
  },
  {
   "cell_type": "code",
   "execution_count": 24,
   "outputs": [],
   "source": [
    "tracks = pd.read_csv('../data/tracks.csv')"
   ],
   "metadata": {
    "collapsed": false
   }
  },
  {
   "cell_type": "code",
   "execution_count": 23,
   "outputs": [
    {
     "data": {
      "text/plain": "478627    1900-01-01\n132355    1922-01-01\n101       1922-01-01\n102       1922-01-01\n132344    1922-01-01\n             ...    \n188856    2021-04-16\n188857    2021-04-16\n374824    2021-04-16\n188846    2021-04-16\n188962    2021-04-16\nName: release_date, Length: 586672, dtype: object"
     },
     "execution_count": 23,
     "metadata": {},
     "output_type": "execute_result"
    }
   ],
   "source": [
    "def convert_date(d: str):\n",
    "    if d.count('-') == 0:\n",
    "        return d + '-01-01'\n",
    "    return d\n",
    "\n",
    "tracks['release_date'] = tracks['release_date'].apply(convert_date)\n",
    "tracks['release_date'].sort_values()"
   ],
   "metadata": {
    "collapsed": false
   }
  },
  {
   "cell_type": "code",
   "execution_count": 43,
   "outputs": [],
   "source": [
    "def pure_text(d):\n",
    "    d = d.replace('\"', '')\n",
    "    d = d.replace(\"'\", '')\n",
    "    return d\n",
    "\n",
    "tracks['artists'] = tracks['artists'].apply(lambda artists: str([pure_text(artist)\n",
    "                                                                           for artist in eval(artists)]))"
   ],
   "metadata": {
    "collapsed": false
   }
  },
  {
   "cell_type": "code",
   "execution_count": 44,
   "outputs": [
    {
     "data": {
      "text/plain": "                            id                                 name  \\\n0       35iwgR4jXetI318WEWsa1Q                                Carve   \n1       021ht4sdgPcrDgSk7JTbKY  Capítulo 2.16 - Banquero Anarquista   \n2       07A5yehtSnoedViJAZkNnc   Vivo para Quererte - Remasterizado   \n3       08FmqUhxtyLTn6pAh6bk45        El Prisionero - Remasterizado   \n4       08y9GfoqCWfOGsKdwojr5e                  Lady of the Evening   \n...                        ...                                  ...   \n586667  5rgu12WBIHQtvej2MdHSH0                                  云与海   \n586668  0NuWgxEp51CutD2pJoF4OM                                blind   \n586669  27Y1N4Q4U3EfDU5Ubw8ws2            What They'll Say About Us   \n586670  45XJsGpFTyzbzeWK8VzR8S                      A Day At A Time   \n586671  5Ocn6dZ3BJFPWh4ylwFXtn                     Mar de Emociones   \n\n        popularity  duration_ms  explicit                          artists  \\\n0                6       126903         0                          ['Uli']   \n1                0        98200         0              ['Fernando Pessoa']   \n2                0       181640         0              ['Ignacio Corsini']   \n3                0       176907         0              ['Ignacio Corsini']   \n4                0       163080         0                  ['Dick Haymes']   \n...            ...          ...       ...                              ...   \n586667          50       258267         0                      ['阿YueYue']   \n586668          72       153293         0                   ['ROLE MODEL']   \n586669          70       187601         0                      ['FINNEAS']   \n586670          58       142003         0  ['Gentle Bones', 'Clara Benin']   \n586671          38       214360         0                    ['Afrosound']   \n\n                                               id_artists release_date  \\\n0                              ['45tIt06XoI0Iio4LBEVpls']   1922-02-22   \n1                              ['14jtPCOoNZwquk5wd9DxrY']   1922-06-01   \n2                              ['5LiOoJbxVSAMkBS2fUm3X2']   1922-03-21   \n3                              ['5LiOoJbxVSAMkBS2fUm3X2']   1922-03-21   \n4                              ['3BiJGZsyX9sJchTqcSA7Su']         1922   \n...                                                   ...          ...   \n586667                         ['1QLBXKM5GCpyQQSVMNZqrZ']   2020-09-26   \n586668                         ['1dy5WNgIKQU6ezkpZs4y8z']   2020-10-21   \n586669                         ['37M5pPGs6V1fchFJSgCguX']   2020-09-02   \n586670  ['4jGPdu95icCKVF31CcFKbS', '5ebPSE9YI5aLeZ1Z2g...   2021-03-05   \n586671                         ['0i4Qda0k4nf7jnNHmSNpYv']   2015-07-01   \n\n        danceability  energy  key  loudness  mode  speechiness  acousticness  \\\n0              0.645  0.4450    0   -13.338     1       0.4510         0.674   \n1              0.695  0.2630    0   -22.136     1       0.9570         0.797   \n2              0.434  0.1770    1   -21.180     1       0.0512         0.994   \n3              0.321  0.0946    7   -27.961     1       0.0504         0.995   \n4              0.402  0.1580    3   -16.900     0       0.0390         0.989   \n...              ...     ...  ...       ...   ...          ...           ...   \n586667         0.560  0.5180    0    -7.471     0       0.0292         0.785   \n586668         0.765  0.6630    0    -5.223     1       0.0652         0.141   \n586669         0.535  0.3140    7   -12.823     0       0.0408         0.895   \n586670         0.696  0.6150   10    -6.212     1       0.0345         0.206   \n586671         0.686  0.7230    6    -7.067     1       0.0363         0.105   \n\n        instrumentalness  liveness  valence    tempo  time_signature  \n0               0.744000    0.1510   0.1270  104.851               3  \n1               0.000000    0.1480   0.6550  102.009               1  \n2               0.021800    0.2120   0.4570  130.418               5  \n3               0.918000    0.1040   0.3970  169.980               3  \n4               0.130000    0.3110   0.1960  103.220               4  \n...                  ...       ...      ...      ...             ...  \n586667          0.000000    0.0648   0.2110  131.896               4  \n586668          0.000297    0.0924   0.6860  150.091               4  \n586669          0.000150    0.0874   0.0663  145.095               4  \n586670          0.000003    0.3050   0.4380   90.029               4  \n586671          0.000000    0.2640   0.9750  112.204               4  \n\n[586672 rows x 20 columns]",
      "text/html": "<div>\n<style scoped>\n    .dataframe tbody tr th:only-of-type {\n        vertical-align: middle;\n    }\n\n    .dataframe tbody tr th {\n        vertical-align: top;\n    }\n\n    .dataframe thead th {\n        text-align: right;\n    }\n</style>\n<table border=\"1\" class=\"dataframe\">\n  <thead>\n    <tr style=\"text-align: right;\">\n      <th></th>\n      <th>id</th>\n      <th>name</th>\n      <th>popularity</th>\n      <th>duration_ms</th>\n      <th>explicit</th>\n      <th>artists</th>\n      <th>id_artists</th>\n      <th>release_date</th>\n      <th>danceability</th>\n      <th>energy</th>\n      <th>key</th>\n      <th>loudness</th>\n      <th>mode</th>\n      <th>speechiness</th>\n      <th>acousticness</th>\n      <th>instrumentalness</th>\n      <th>liveness</th>\n      <th>valence</th>\n      <th>tempo</th>\n      <th>time_signature</th>\n    </tr>\n  </thead>\n  <tbody>\n    <tr>\n      <th>0</th>\n      <td>35iwgR4jXetI318WEWsa1Q</td>\n      <td>Carve</td>\n      <td>6</td>\n      <td>126903</td>\n      <td>0</td>\n      <td>['Uli']</td>\n      <td>['45tIt06XoI0Iio4LBEVpls']</td>\n      <td>1922-02-22</td>\n      <td>0.645</td>\n      <td>0.4450</td>\n      <td>0</td>\n      <td>-13.338</td>\n      <td>1</td>\n      <td>0.4510</td>\n      <td>0.674</td>\n      <td>0.744000</td>\n      <td>0.1510</td>\n      <td>0.1270</td>\n      <td>104.851</td>\n      <td>3</td>\n    </tr>\n    <tr>\n      <th>1</th>\n      <td>021ht4sdgPcrDgSk7JTbKY</td>\n      <td>Capítulo 2.16 - Banquero Anarquista</td>\n      <td>0</td>\n      <td>98200</td>\n      <td>0</td>\n      <td>['Fernando Pessoa']</td>\n      <td>['14jtPCOoNZwquk5wd9DxrY']</td>\n      <td>1922-06-01</td>\n      <td>0.695</td>\n      <td>0.2630</td>\n      <td>0</td>\n      <td>-22.136</td>\n      <td>1</td>\n      <td>0.9570</td>\n      <td>0.797</td>\n      <td>0.000000</td>\n      <td>0.1480</td>\n      <td>0.6550</td>\n      <td>102.009</td>\n      <td>1</td>\n    </tr>\n    <tr>\n      <th>2</th>\n      <td>07A5yehtSnoedViJAZkNnc</td>\n      <td>Vivo para Quererte - Remasterizado</td>\n      <td>0</td>\n      <td>181640</td>\n      <td>0</td>\n      <td>['Ignacio Corsini']</td>\n      <td>['5LiOoJbxVSAMkBS2fUm3X2']</td>\n      <td>1922-03-21</td>\n      <td>0.434</td>\n      <td>0.1770</td>\n      <td>1</td>\n      <td>-21.180</td>\n      <td>1</td>\n      <td>0.0512</td>\n      <td>0.994</td>\n      <td>0.021800</td>\n      <td>0.2120</td>\n      <td>0.4570</td>\n      <td>130.418</td>\n      <td>5</td>\n    </tr>\n    <tr>\n      <th>3</th>\n      <td>08FmqUhxtyLTn6pAh6bk45</td>\n      <td>El Prisionero - Remasterizado</td>\n      <td>0</td>\n      <td>176907</td>\n      <td>0</td>\n      <td>['Ignacio Corsini']</td>\n      <td>['5LiOoJbxVSAMkBS2fUm3X2']</td>\n      <td>1922-03-21</td>\n      <td>0.321</td>\n      <td>0.0946</td>\n      <td>7</td>\n      <td>-27.961</td>\n      <td>1</td>\n      <td>0.0504</td>\n      <td>0.995</td>\n      <td>0.918000</td>\n      <td>0.1040</td>\n      <td>0.3970</td>\n      <td>169.980</td>\n      <td>3</td>\n    </tr>\n    <tr>\n      <th>4</th>\n      <td>08y9GfoqCWfOGsKdwojr5e</td>\n      <td>Lady of the Evening</td>\n      <td>0</td>\n      <td>163080</td>\n      <td>0</td>\n      <td>['Dick Haymes']</td>\n      <td>['3BiJGZsyX9sJchTqcSA7Su']</td>\n      <td>1922</td>\n      <td>0.402</td>\n      <td>0.1580</td>\n      <td>3</td>\n      <td>-16.900</td>\n      <td>0</td>\n      <td>0.0390</td>\n      <td>0.989</td>\n      <td>0.130000</td>\n      <td>0.3110</td>\n      <td>0.1960</td>\n      <td>103.220</td>\n      <td>4</td>\n    </tr>\n    <tr>\n      <th>...</th>\n      <td>...</td>\n      <td>...</td>\n      <td>...</td>\n      <td>...</td>\n      <td>...</td>\n      <td>...</td>\n      <td>...</td>\n      <td>...</td>\n      <td>...</td>\n      <td>...</td>\n      <td>...</td>\n      <td>...</td>\n      <td>...</td>\n      <td>...</td>\n      <td>...</td>\n      <td>...</td>\n      <td>...</td>\n      <td>...</td>\n      <td>...</td>\n      <td>...</td>\n    </tr>\n    <tr>\n      <th>586667</th>\n      <td>5rgu12WBIHQtvej2MdHSH0</td>\n      <td>云与海</td>\n      <td>50</td>\n      <td>258267</td>\n      <td>0</td>\n      <td>['阿YueYue']</td>\n      <td>['1QLBXKM5GCpyQQSVMNZqrZ']</td>\n      <td>2020-09-26</td>\n      <td>0.560</td>\n      <td>0.5180</td>\n      <td>0</td>\n      <td>-7.471</td>\n      <td>0</td>\n      <td>0.0292</td>\n      <td>0.785</td>\n      <td>0.000000</td>\n      <td>0.0648</td>\n      <td>0.2110</td>\n      <td>131.896</td>\n      <td>4</td>\n    </tr>\n    <tr>\n      <th>586668</th>\n      <td>0NuWgxEp51CutD2pJoF4OM</td>\n      <td>blind</td>\n      <td>72</td>\n      <td>153293</td>\n      <td>0</td>\n      <td>['ROLE MODEL']</td>\n      <td>['1dy5WNgIKQU6ezkpZs4y8z']</td>\n      <td>2020-10-21</td>\n      <td>0.765</td>\n      <td>0.6630</td>\n      <td>0</td>\n      <td>-5.223</td>\n      <td>1</td>\n      <td>0.0652</td>\n      <td>0.141</td>\n      <td>0.000297</td>\n      <td>0.0924</td>\n      <td>0.6860</td>\n      <td>150.091</td>\n      <td>4</td>\n    </tr>\n    <tr>\n      <th>586669</th>\n      <td>27Y1N4Q4U3EfDU5Ubw8ws2</td>\n      <td>What They'll Say About Us</td>\n      <td>70</td>\n      <td>187601</td>\n      <td>0</td>\n      <td>['FINNEAS']</td>\n      <td>['37M5pPGs6V1fchFJSgCguX']</td>\n      <td>2020-09-02</td>\n      <td>0.535</td>\n      <td>0.3140</td>\n      <td>7</td>\n      <td>-12.823</td>\n      <td>0</td>\n      <td>0.0408</td>\n      <td>0.895</td>\n      <td>0.000150</td>\n      <td>0.0874</td>\n      <td>0.0663</td>\n      <td>145.095</td>\n      <td>4</td>\n    </tr>\n    <tr>\n      <th>586670</th>\n      <td>45XJsGpFTyzbzeWK8VzR8S</td>\n      <td>A Day At A Time</td>\n      <td>58</td>\n      <td>142003</td>\n      <td>0</td>\n      <td>['Gentle Bones', 'Clara Benin']</td>\n      <td>['4jGPdu95icCKVF31CcFKbS', '5ebPSE9YI5aLeZ1Z2g...</td>\n      <td>2021-03-05</td>\n      <td>0.696</td>\n      <td>0.6150</td>\n      <td>10</td>\n      <td>-6.212</td>\n      <td>1</td>\n      <td>0.0345</td>\n      <td>0.206</td>\n      <td>0.000003</td>\n      <td>0.3050</td>\n      <td>0.4380</td>\n      <td>90.029</td>\n      <td>4</td>\n    </tr>\n    <tr>\n      <th>586671</th>\n      <td>5Ocn6dZ3BJFPWh4ylwFXtn</td>\n      <td>Mar de Emociones</td>\n      <td>38</td>\n      <td>214360</td>\n      <td>0</td>\n      <td>['Afrosound']</td>\n      <td>['0i4Qda0k4nf7jnNHmSNpYv']</td>\n      <td>2015-07-01</td>\n      <td>0.686</td>\n      <td>0.7230</td>\n      <td>6</td>\n      <td>-7.067</td>\n      <td>1</td>\n      <td>0.0363</td>\n      <td>0.105</td>\n      <td>0.000000</td>\n      <td>0.2640</td>\n      <td>0.9750</td>\n      <td>112.204</td>\n      <td>4</td>\n    </tr>\n  </tbody>\n</table>\n<p>586672 rows × 20 columns</p>\n</div>"
     },
     "execution_count": 44,
     "metadata": {},
     "output_type": "execute_result"
    }
   ],
   "source": [
    "tracks"
   ],
   "metadata": {
    "collapsed": false
   }
  },
  {
   "cell_type": "code",
   "execution_count": 45,
   "outputs": [],
   "source": [
    "tracks.to_csv(\"../data/tracks.csv\", index=False)"
   ],
   "metadata": {
    "collapsed": false
   }
  },
  {
   "cell_type": "code",
   "execution_count": 41,
   "outputs": [
    {
     "data": {
      "text/plain": "['Uli']"
     },
     "execution_count": 41,
     "metadata": {},
     "output_type": "execute_result"
    }
   ],
   "source": [
    "eval(tracks['artists'][0])"
   ],
   "metadata": {
    "collapsed": false
   }
  }
 ],
 "metadata": {
  "kernelspec": {
   "display_name": "Python 3",
   "language": "python",
   "name": "python3"
  },
  "language_info": {
   "codemirror_mode": {
    "name": "ipython",
    "version": 2
   },
   "file_extension": ".py",
   "mimetype": "text/x-python",
   "name": "python",
   "nbconvert_exporter": "python",
   "pygments_lexer": "ipython2",
   "version": "2.7.6"
  }
 },
 "nbformat": 4,
 "nbformat_minor": 0
}
