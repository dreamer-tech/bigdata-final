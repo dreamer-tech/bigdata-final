{
 "cells": [
  {
   "cell_type": "code",
   "execution_count": 1,
   "metadata": {
    "collapsed": true
   },
   "outputs": [],
   "source": [
    "import pandas as pd"
   ]
  },
  {
   "cell_type": "code",
   "execution_count": 2,
   "outputs": [],
   "source": [
    "artists = pd.read_csv('../data/artists.csv')"
   ],
   "metadata": {
    "collapsed": false
   }
  },
  {
   "cell_type": "code",
   "execution_count": 20,
   "outputs": [
    {
     "data": {
      "text/plain": "                            id  followers         genres  name  popularity\n436667  3MLHJz04KmEVzCTPclzkEm        NaN  ['czech pop']  Niko          21",
      "text/html": "<div>\n<style scoped>\n    .dataframe tbody tr th:only-of-type {\n        vertical-align: middle;\n    }\n\n    .dataframe tbody tr th {\n        vertical-align: top;\n    }\n\n    .dataframe thead th {\n        text-align: right;\n    }\n</style>\n<table border=\"1\" class=\"dataframe\">\n  <thead>\n    <tr style=\"text-align: right;\">\n      <th></th>\n      <th>id</th>\n      <th>followers</th>\n      <th>genres</th>\n      <th>name</th>\n      <th>popularity</th>\n    </tr>\n  </thead>\n  <tbody>\n    <tr>\n      <th>436667</th>\n      <td>3MLHJz04KmEVzCTPclzkEm</td>\n      <td>NaN</td>\n      <td>['czech pop']</td>\n      <td>Niko</td>\n      <td>21</td>\n    </tr>\n  </tbody>\n</table>\n</div>"
     },
     "execution_count": 20,
     "metadata": {},
     "output_type": "execute_result"
    }
   ],
   "source": [
    "artists.head(436668).tail(1)"
   ],
   "metadata": {
    "collapsed": false
   }
  },
  {
   "cell_type": "code",
   "execution_count": 16,
   "outputs": [
    {
     "data": {
      "text/plain": "                             id  followers            genres  \\\n0        0DheY5irMjBUeLybbCUEZ2        0.0                []   \n1        0DlhY15l3wsrnlfGio2bjU        5.0                []   \n2        0DmRESX2JknGPQyO15yxg7        0.0                []   \n3        0DmhnbHjm1qw6NCYPeZNgJ        0.0                []   \n4        0Dn11fWM7vHQ3rinvWEl4E        2.0                []   \n...                         ...        ...               ...   \n1162090  3cOzi726Iav1toV2LRVEjp     4831.0  ['black comedy']   \n1162091  6LogY6VMM3jgAE6fPzXeMl       46.0                []   \n1162092  19boQkDEIay9GaVAWkUhTa      257.0                []   \n1162093  5nvjpU3Y7L6Hpe54QuvDjy     2357.0  ['black comedy']   \n1162094  2bP2cNhNBdKXHC6AnqgyVp       40.0    ['new comedy']   \n\n                                                   name  popularity  \n0        Armid & Amir Zare Pashai feat. Sara Rouzbehani           0  \n1                                           ปูนา ภาวิณี           0  \n2                                                 Sadaa           0  \n3                                             Tra'gruda           0  \n4                                Ioannis Panoutsopoulos           0  \n...                                                 ...         ...  \n1162090                                      Ali Siddiq          34  \n1162091                                    Rodney Laney           2  \n1162092                                    Blake Wexler          10  \n1162093                                Donnell Rawlings          15  \n1162094                                        Gabe Kea           8  \n\n[1162095 rows x 5 columns]",
      "text/html": "<div>\n<style scoped>\n    .dataframe tbody tr th:only-of-type {\n        vertical-align: middle;\n    }\n\n    .dataframe tbody tr th {\n        vertical-align: top;\n    }\n\n    .dataframe thead th {\n        text-align: right;\n    }\n</style>\n<table border=\"1\" class=\"dataframe\">\n  <thead>\n    <tr style=\"text-align: right;\">\n      <th></th>\n      <th>id</th>\n      <th>followers</th>\n      <th>genres</th>\n      <th>name</th>\n      <th>popularity</th>\n    </tr>\n  </thead>\n  <tbody>\n    <tr>\n      <th>0</th>\n      <td>0DheY5irMjBUeLybbCUEZ2</td>\n      <td>0.0</td>\n      <td>[]</td>\n      <td>Armid &amp; Amir Zare Pashai feat. Sara Rouzbehani</td>\n      <td>0</td>\n    </tr>\n    <tr>\n      <th>1</th>\n      <td>0DlhY15l3wsrnlfGio2bjU</td>\n      <td>5.0</td>\n      <td>[]</td>\n      <td>ปูนา ภาวิณี</td>\n      <td>0</td>\n    </tr>\n    <tr>\n      <th>2</th>\n      <td>0DmRESX2JknGPQyO15yxg7</td>\n      <td>0.0</td>\n      <td>[]</td>\n      <td>Sadaa</td>\n      <td>0</td>\n    </tr>\n    <tr>\n      <th>3</th>\n      <td>0DmhnbHjm1qw6NCYPeZNgJ</td>\n      <td>0.0</td>\n      <td>[]</td>\n      <td>Tra'gruda</td>\n      <td>0</td>\n    </tr>\n    <tr>\n      <th>4</th>\n      <td>0Dn11fWM7vHQ3rinvWEl4E</td>\n      <td>2.0</td>\n      <td>[]</td>\n      <td>Ioannis Panoutsopoulos</td>\n      <td>0</td>\n    </tr>\n    <tr>\n      <th>...</th>\n      <td>...</td>\n      <td>...</td>\n      <td>...</td>\n      <td>...</td>\n      <td>...</td>\n    </tr>\n    <tr>\n      <th>1162090</th>\n      <td>3cOzi726Iav1toV2LRVEjp</td>\n      <td>4831.0</td>\n      <td>['black comedy']</td>\n      <td>Ali Siddiq</td>\n      <td>34</td>\n    </tr>\n    <tr>\n      <th>1162091</th>\n      <td>6LogY6VMM3jgAE6fPzXeMl</td>\n      <td>46.0</td>\n      <td>[]</td>\n      <td>Rodney Laney</td>\n      <td>2</td>\n    </tr>\n    <tr>\n      <th>1162092</th>\n      <td>19boQkDEIay9GaVAWkUhTa</td>\n      <td>257.0</td>\n      <td>[]</td>\n      <td>Blake Wexler</td>\n      <td>10</td>\n    </tr>\n    <tr>\n      <th>1162093</th>\n      <td>5nvjpU3Y7L6Hpe54QuvDjy</td>\n      <td>2357.0</td>\n      <td>['black comedy']</td>\n      <td>Donnell Rawlings</td>\n      <td>15</td>\n    </tr>\n    <tr>\n      <th>1162094</th>\n      <td>2bP2cNhNBdKXHC6AnqgyVp</td>\n      <td>40.0</td>\n      <td>['new comedy']</td>\n      <td>Gabe Kea</td>\n      <td>8</td>\n    </tr>\n  </tbody>\n</table>\n<p>1162095 rows × 5 columns</p>\n</div>"
     },
     "execution_count": 16,
     "metadata": {},
     "output_type": "execute_result"
    }
   ],
   "source": [
    "artists"
   ],
   "metadata": {
    "collapsed": false
   }
  },
  {
   "cell_type": "code",
   "execution_count": 17,
   "outputs": [
    {
     "data": {
      "text/plain": "id             object\nfollowers     float64\ngenres         object\nname           object\npopularity      int64\ndtype: object"
     },
     "execution_count": 17,
     "metadata": {},
     "output_type": "execute_result"
    }
   ],
   "source": [
    "artists.dtypes"
   ],
   "metadata": {
    "collapsed": false
   }
  },
  {
   "cell_type": "code",
   "execution_count": 6,
   "outputs": [],
   "source": [
    "tracks = pd.read_csv('../data/tracks.csv')"
   ],
   "metadata": {
    "collapsed": false
   }
  },
  {
   "cell_type": "code",
   "execution_count": 23,
   "outputs": [
    {
     "data": {
      "text/plain": "478627    1900-01-01\n132355    1922-01-01\n101       1922-01-01\n102       1922-01-01\n132344    1922-01-01\n             ...    \n188856    2021-04-16\n188857    2021-04-16\n374824    2021-04-16\n188846    2021-04-16\n188962    2021-04-16\nName: release_date, Length: 586672, dtype: object"
     },
     "execution_count": 23,
     "metadata": {},
     "output_type": "execute_result"
    }
   ],
   "source": [
    "def convert_date(d: str):\n",
    "    if d.count('-') == 0:\n",
    "        return d + '-01-01'\n",
    "    return d\n",
    "\n",
    "tracks['release_date'] = tracks['release_date'].apply(convert_date)\n",
    "tracks['release_date'].sort_values()"
   ],
   "metadata": {
    "collapsed": false
   }
  },
  {
   "cell_type": "code",
   "execution_count": 8,
   "outputs": [
    {
     "data": {
      "text/plain": "id                   object\nname                 object\npopularity            int64\nduration_ms           int64\nexplicit              int64\nartists              object\nid_artists           object\nrelease_date         object\ndanceability        float64\nenergy              float64\nkey                   int64\nloudness            float64\nmode                  int64\nspeechiness         float64\nacousticness        float64\ninstrumentalness    float64\nliveness            float64\nvalence             float64\ntempo               float64\ntime_signature        int64\ndtype: object"
     },
     "execution_count": 8,
     "metadata": {},
     "output_type": "execute_result"
    }
   ],
   "source": [
    "tracks.dtypes"
   ],
   "metadata": {
    "collapsed": false
   }
  },
  {
   "cell_type": "code",
   "execution_count": null,
   "outputs": [],
   "source": [],
   "metadata": {
    "collapsed": false
   }
  }
 ],
 "metadata": {
  "kernelspec": {
   "display_name": "Python 3",
   "language": "python",
   "name": "python3"
  },
  "language_info": {
   "codemirror_mode": {
    "name": "ipython",
    "version": 2
   },
   "file_extension": ".py",
   "mimetype": "text/x-python",
   "name": "python",
   "nbconvert_exporter": "python",
   "pygments_lexer": "ipython2",
   "version": "2.7.6"
  }
 },
 "nbformat": 4,
 "nbformat_minor": 0
}
